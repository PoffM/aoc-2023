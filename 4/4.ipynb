{
 "cells": [
  {
   "cell_type": "code",
   "execution_count": 2,
   "metadata": {},
   "outputs": [
    {
     "name": "stdout",
     "output_type": "stream",
     "text": [
      "25174\n"
     ]
    }
   ],
   "source": [
    "import re\n",
    "\n",
    "# Part 1\n",
    "\n",
    "with open(\"./input.txt\") as input:\n",
    "    card_count = 0\n",
    "    while line := input.readline():\n",
    "        gamename, win_line, my_line = re.split(r\"[\\:\\|]\", line)\n",
    "        win_nums = set(re.findall(r\"\\d+\", win_line))\n",
    "        my_nums = re.findall(r\"\\d+\", my_line)\n",
    "\n",
    "        matches = len([my_num for my_num in my_nums if my_num in win_nums])\n",
    "        points = matches and (2 ** (matches - 1))\n",
    "        card_count += points\n",
    "    print(card_count)"
   ]
  },
  {
   "cell_type": "code",
   "execution_count": 63,
   "metadata": {},
   "outputs": [
    {
     "name": "stdout",
     "output_type": "stream",
     "text": [
      "6420979\n"
     ]
    }
   ],
   "source": [
    "import re\n",
    "\n",
    "# Part 2 standard version\n",
    "\n",
    "with open(\"./input.txt\") as input:\n",
    "    card_count = 0\n",
    "    additionals: list[tuple[int, int]] = []\n",
    "\n",
    "    while line := input.readline():\n",
    "        gamename, win_line, my_line = re.split(r\"[\\:\\|]\", line)\n",
    "        win_nums = set(re.findall(r\"\\d+\", win_line))\n",
    "        my_nums = re.findall(r\"\\d+\", my_line)\n",
    "\n",
    "        this_card_count = 1 + sum([x for x, y in additionals])\n",
    "        card_count += this_card_count\n",
    "\n",
    "        matches = len([my_num for my_num in my_nums if my_num in win_nums])\n",
    "\n",
    "        new_cards_won = matches and (this_card_count, matches)\n",
    "\n",
    "        additionals = [(x, y - 1) for x, y in additionals if y > 1]\n",
    "        if new_cards_won:\n",
    "            additionals.append(new_cards_won)\n",
    "\n",
    "    print(card_count)\n",
    "    # 6420979"
   ]
  },
  {
   "cell_type": "code",
   "execution_count": 61,
   "metadata": {},
   "outputs": [
    {
     "name": "stdout",
     "output_type": "stream",
     "text": [
      "6420979\n"
     ]
    }
   ],
   "source": [
    "import re\n",
    "import numpy as np\n",
    "\n",
    "# Part 2 numpy version\n",
    "\n",
    "with open(\"./input.txt\") as input:\n",
    "    card_count = 0\n",
    "    additionals = np.empty((0, 2), dtype=int)\n",
    "\n",
    "    while line := input.readline():\n",
    "        gamename, win_line, my_line = re.split(r\"[\\:\\|]\", line)\n",
    "        win_nums = set(re.findall(r\"\\d+\", win_line))\n",
    "        my_nums = re.findall(r\"\\d+\", my_line)\n",
    "\n",
    "        this_card_count = 1 + np.sum(additionals[:, 0])\n",
    "        card_count += this_card_count\n",
    "\n",
    "        matches = len([my_num for my_num in my_nums if my_num in win_nums])\n",
    "\n",
    "        new_cards_won = matches and [this_card_count, matches]\n",
    "\n",
    "        # Decrement all bonuses and remove the used-up bonuses\n",
    "        additionals[:, 1] -= 1\n",
    "        additionals = additionals[additionals[:, 1] > 0]\n",
    "\n",
    "        if new_cards_won:\n",
    "            additionals = np.concatenate([additionals, np.array([new_cards_won])])\n",
    "\n",
    "    print(card_count)\n",
    "    # 6420979"
   ]
  }
 ],
 "metadata": {
  "kernelspec": {
   "display_name": "Python 3",
   "language": "python",
   "name": "python3"
  },
  "language_info": {
   "codemirror_mode": {
    "name": "ipython",
    "version": 3
   },
   "file_extension": ".py",
   "mimetype": "text/x-python",
   "name": "python",
   "nbconvert_exporter": "python",
   "pygments_lexer": "ipython3",
   "version": "3.10.12"
  }
 },
 "nbformat": 4,
 "nbformat_minor": 2
}
