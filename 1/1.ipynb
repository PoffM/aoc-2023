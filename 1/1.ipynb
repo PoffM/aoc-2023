{
 "cells": [
  {
   "cell_type": "code",
   "execution_count": 1,
   "metadata": {},
   "outputs": [
    {
     "name": "stdout",
     "output_type": "stream",
     "text": [
      "54601\n"
     ]
    }
   ],
   "source": [
    "import re\n",
    "\n",
    "with open(\"./input.txt\") as input:\n",
    "    sum = 0\n",
    "    while line := input.readline():\n",
    "        digits = re.findall(r\"\\d\", line)\n",
    "        first_dig = digits[0]\n",
    "        last_dig = digits[-1]\n",
    "\n",
    "        num = first_dig + last_dig\n",
    "        sum += int(num)\n",
    "\n",
    "    print(sum)"
   ]
  },
  {
   "cell_type": "code",
   "execution_count": 2,
   "metadata": {},
   "outputs": [
    {
     "name": "stdout",
     "output_type": "stream",
     "text": [
      "54078\n"
     ]
    }
   ],
   "source": [
    "import re\n",
    "from typing import Literal\n",
    "\n",
    "\n",
    "text_to_nums = {\n",
    "    \"one\": \"1\",\n",
    "    \"two\": \"2\",\n",
    "    \"three\": \"3\",\n",
    "    \"four\": \"4\",\n",
    "    \"five\": \"5\",\n",
    "    \"six\": \"6\",\n",
    "    \"seven\": \"7\",\n",
    "    \"eight\": \"8\",\n",
    "    \"nine\": \"9\",\n",
    "}\n",
    "\n",
    "num_matchers: dict[Literal[1, -1], str] = {\n",
    "    1: f'\\\\d|{\"|\".join(text_to_nums.keys())}',\n",
    "    -1: f'\\\\d|{\"|\".join(text_to_nums.keys())[::-1]}',\n",
    "}\n",
    "\n",
    "\n",
    "def get_first_num(text: str, direction: Literal[1, -1] = 1):\n",
    "    num_matcher = num_matchers[direction]\n",
    "\n",
    "    match = re.search(num_matcher, text[::direction])\n",
    "    if not match:\n",
    "        return ''\n",
    "\n",
    "    match_text = match.group()[::direction]\n",
    "    if len(match_text) == 1:\n",
    "        return match_text\n",
    "    else:\n",
    "        return text_to_nums[match_text] or ''\n",
    "\n",
    "\n",
    "with open(\"./input.txt\") as input:\n",
    "    sum = 0\n",
    "\n",
    "    while line := input.readline():\n",
    "        first_dig = get_first_num(line, 1)\n",
    "        last_dig = get_first_num(line, -1)\n",
    "\n",
    "        num = first_dig + last_dig\n",
    "        sum += int(num)\n",
    "\n",
    "    print(sum)\n",
    "    # 54078"
   ]
  }
 ],
 "metadata": {
  "kernelspec": {
   "display_name": "Python 3",
   "language": "python",
   "name": "python3"
  },
  "language_info": {
   "codemirror_mode": {
    "name": "ipython",
    "version": 3
   },
   "file_extension": ".py",
   "mimetype": "text/x-python",
   "name": "python",
   "nbconvert_exporter": "python",
   "pygments_lexer": "ipython3",
   "version": "3.10.12"
  }
 },
 "nbformat": 4,
 "nbformat_minor": 2
}
