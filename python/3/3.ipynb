{
 "cells": [
  {
   "cell_type": "code",
   "execution_count": 4,
   "metadata": {},
   "outputs": [
    {
     "name": "stdout",
     "output_type": "stream",
     "text": [
      "539590\n"
     ]
    }
   ],
   "source": [
    "from io import TextIOWrapper\n",
    "import re\n",
    "\n",
    "\n",
    "def line_batches(input: TextIOWrapper):\n",
    "    lines = [\"\", *(input.readline() for _ in range(0, 2))]\n",
    "    yield lines\n",
    "    while new_line := input.readline():\n",
    "        lines = [*lines[1:], new_line]\n",
    "        yield lines\n",
    "    lines = [*lines[1:], \"\"]\n",
    "    yield lines\n",
    "\n",
    "def circle_around(x: tuple[int, int], y: int):\n",
    "    def sign(num: int):\n",
    "        return 1 if num > 0 else -1 if num < 0 else 0\n",
    "\n",
    "    startX, endX = x\n",
    "\n",
    "    path: list[tuple[int, int]] = [\n",
    "        (startX - 1, y - 1),\n",
    "        (endX + 1, y - 1),\n",
    "        (endX + 1, y + 1),\n",
    "        (startX - 1, y + 1),\n",
    "        (startX - 1, y - 1),\n",
    "    ]\n",
    "\n",
    "    pos = path[0]\n",
    "    for dest in path[1:]:\n",
    "        x1, y1 = pos\n",
    "        x2, y2 = dest\n",
    "        dir = (sign(x2 - x1), sign(y2 - y1))\n",
    "        while pos != dest:\n",
    "            yield pos\n",
    "            pos = (pos[0] + dir[0], pos[1] + dir[1])\n",
    "\n",
    "def adjacent_symbol(line_batch: list[str], num_match: re.Match[str]):\n",
    "    start, end = num_match.span()\n",
    "    for x, y in circle_around((start, end - 1), 1):\n",
    "        line = line_batch[y]\n",
    "        if not line:\n",
    "            continue\n",
    "        if sym_match := re.fullmatch(r\"[^0-9\\.\\s]\", line[x]):\n",
    "            return sym_match\n",
    "    return None\n",
    "\n",
    "with open(\"./input.txt\") as input:\n",
    "    num_sum = 0\n",
    "    for kernel in line_batches(input):\n",
    "        line = kernel[1]\n",
    "        for num_match in re.finditer(r\"(\\d+)\", line):\n",
    "            if sym_match := adjacent_symbol(kernel, num_match):\n",
    "                num_sum += int(num_match.group())\n",
    "    print(num_sum)"
   ]
  },
  {
   "cell_type": "code",
   "execution_count": 35,
   "metadata": {},
   "outputs": [
    {
     "name": "stdout",
     "output_type": "stream",
     "text": [
      "80703636\n"
     ]
    }
   ],
   "source": [
    "from math import prod\n",
    "import re\n",
    "from typing import Optional, Union\n",
    "\n",
    "\n",
    "def adjacent_symbols(line_batch: list[str], num_match: re.Match[str]):\n",
    "    syms: list[tuple[re.Match[str], tuple[int, int]]] = []\n",
    "\n",
    "    start, end = num_match.span()\n",
    "    for x, y in circle_around((start, end - 1), 1):\n",
    "        line = line_batch[y]\n",
    "        if not line:\n",
    "            continue\n",
    "        if sym_match := re.fullmatch(r\"([^0-9\\.\\s])\", line[x]):\n",
    "            syms.append((sym_match, (x, y)))\n",
    "    return syms\n",
    "\n",
    "\n",
    "with open(\"./input.txt\") as input:\n",
    "    line_num = -1\n",
    "    star_nums: dict[tuple[int, int], list[int]] = {}\n",
    "    gear_sum = 0\n",
    "\n",
    "    def flush_star_nums(line_num: Optional[int] = None):\n",
    "        sum = 0\n",
    "        rm_keys: list[tuple[int, int]] = []\n",
    "        for key in star_nums.keys():\n",
    "            x, y = key\n",
    "            if line_num is None or y < line_num:\n",
    "                if len(star_nums[key]) == 2:\n",
    "                    sum += prod(star_nums[key])\n",
    "                rm_keys.append(key)\n",
    "        for rm_key in rm_keys:\n",
    "            star_nums.pop(rm_key)\n",
    "        return sum\n",
    "\n",
    "\n",
    "    for kernel in line_batches(input):\n",
    "        line_num += 1\n",
    "        line = kernel[1]\n",
    "\n",
    "        gear_sum += flush_star_nums(line_num -1)\n",
    "\n",
    "        # Link stars to adjacent nums\n",
    "        for num_match in re.finditer(r\"(\\d+)\", line):\n",
    "            for sym, pos in adjacent_symbols(kernel, num_match):\n",
    "                if sym.group() == \"*\":\n",
    "                    global_pos = (pos[0], pos[1] + line_num - 1)\n",
    "                    nums = star_nums.get(global_pos, [])\n",
    "                    nums.append(int(num_match.group()))\n",
    "                    star_nums[global_pos] = nums\n",
    "\n",
    "    flush_star_nums()\n",
    "    assert len(star_nums) == 0\n",
    "    print(gear_sum)\n",
    "    # 80703636"
   ]
  }
 ],
 "metadata": {
  "kernelspec": {
   "display_name": "Python 3",
   "language": "python",
   "name": "python3"
  },
  "language_info": {
   "codemirror_mode": {
    "name": "ipython",
    "version": 3
   },
   "file_extension": ".py",
   "mimetype": "text/x-python",
   "name": "python",
   "nbconvert_exporter": "python",
   "pygments_lexer": "ipython3",
   "version": "3.10.12"
  }
 },
 "nbformat": 4,
 "nbformat_minor": 2
}
