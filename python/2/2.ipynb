{
 "cells": [
  {
   "cell_type": "code",
   "execution_count": 1,
   "metadata": {},
   "outputs": [
    {
     "name": "stdout",
     "output_type": "stream",
     "text": [
      "ID sum: 2416\n"
     ]
    }
   ],
   "source": [
    "import re\n",
    "\n",
    "# Maximum 12 red cubes, 13 green cubes, and 14 blue cubes\n",
    "\n",
    "maxs = {\"red\": 12, \"green\": 13, \"blue\": 14}\n",
    "\n",
    "\n",
    "def is_possible(game: str):\n",
    "    for batch in game.split(\";\"):\n",
    "        for num_and_color in re.findall(r\"(\\d+) (red|green|blue)\", batch):\n",
    "            num, color = num_and_color\n",
    "            if int(num) > maxs[color]:\n",
    "                return False\n",
    "    return True\n",
    "\n",
    "\n",
    "with open(\"./input.txt\") as input:\n",
    "    sum = 0\n",
    "    while game := input.readline():\n",
    "        id = int(re.findall(r\"Game (\\d+)\", game)[0])\n",
    "\n",
    "        possible = is_possible(game)\n",
    "\n",
    "        sum += possible * id\n",
    "\n",
    "print(f\"ID sum: {sum}\")"
   ]
  },
  {
   "cell_type": "code",
   "execution_count": 2,
   "metadata": {},
   "outputs": [
    {
     "name": "stdout",
     "output_type": "stream",
     "text": [
      "Power sum: 63307\n"
     ]
    }
   ],
   "source": [
    "from math import prod\n",
    "import re\n",
    "\n",
    "with open(\"./input.txt\") as input:\n",
    "    sum = 0\n",
    "    while game := input.readline():\n",
    "        mins = {\"red\": 0, \"green\": 0, \"blue\": 0}\n",
    "        for num, color in re.findall(r\"(\\d+) (red|green|blue)\", game):\n",
    "            mins[color] = max(mins[color], int(num))\n",
    "        power = prod(mins.values())\n",
    "        sum += power\n",
    "    print(f\"Power sum: {sum}\")"
   ]
  }
 ],
 "metadata": {
  "kernelspec": {
   "display_name": "Python 3",
   "language": "python",
   "name": "python3"
  },
  "language_info": {
   "codemirror_mode": {
    "name": "ipython",
    "version": 3
   },
   "file_extension": ".py",
   "mimetype": "text/x-python",
   "name": "python",
   "nbconvert_exporter": "python",
   "pygments_lexer": "ipython3",
   "version": "3.10.12"
  }
 },
 "nbformat": 4,
 "nbformat_minor": 2
}
